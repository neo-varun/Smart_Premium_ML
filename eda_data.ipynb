{
 "cells": [
  {
   "cell_type": "markdown",
   "metadata": {},
   "source": [
    "# Exploratory Data Analysis\n",
    "\n",
    "This notebook performs Exploratory Data Analysis on the insurance dataset"
   ]
  },
  {
   "cell_type": "code",
   "execution_count": 28,
   "metadata": {},
   "outputs": [],
   "source": [
    "import pandas as pd\n",
    "import matplotlib.pyplot as plt\n",
    "import seaborn as sns"
   ]
  },
  {
   "cell_type": "code",
   "execution_count": null,
   "metadata": {},
   "outputs": [],
   "source": [
    "def load_data(path='data/train.csv'):\n",
    "    data = pd.read_csv(path)\n",
    "    return data\n",
    "\n",
    "data = load_data()\n",
    "data.head()"
   ]
  },
  {
   "cell_type": "markdown",
   "metadata": {},
   "source": [
    "### Missing Values by Feature"
   ]
  },
  {
   "cell_type": "code",
   "execution_count": null,
   "metadata": {},
   "outputs": [],
   "source": [
    "missing_values = data.isnull().sum()\n",
    "missing_values = missing_values[missing_values > 0]\n",
    "\n",
    "if len(missing_values) > 0:\n",
    "    plt.figure(figsize=(10, 6))\n",
    "    sns.barplot(x=missing_values.index, y=missing_values.values)\n",
    "    plt.title('Missing Values by Feature')\n",
    "    plt.xticks(rotation=45)\n",
    "    plt.xlabel('Features')\n",
    "    plt.ylabel('Count')\n",
    "    plt.tight_layout()\n",
    "    plt.show()\n",
    "else:\n",
    "    print(\"No missing values found in the dataset.\")"
   ]
  },
  {
   "cell_type": "markdown",
   "metadata": {},
   "source": [
    "### Distribution of Premium Amount"
   ]
  },
  {
   "cell_type": "code",
   "execution_count": null,
   "metadata": {},
   "outputs": [],
   "source": [
    "plt.figure(figsize=(8, 6))\n",
    "\n",
    "sns.histplot(data['Premium Amount'], kde=True)\n",
    "plt.title('Distribution of Premium Amount')\n",
    "plt.xlabel('Premium Amount ($)')\n",
    "plt.ylabel('Frequency')\n",
    "\n",
    "plt.tight_layout()\n",
    "plt.show()"
   ]
  },
  {
   "cell_type": "markdown",
   "metadata": {},
   "source": [
    "### Annual Income vs Premium Amount"
   ]
  },
  {
   "cell_type": "code",
   "execution_count": null,
   "metadata": {},
   "outputs": [],
   "source": [
    "plt.figure(figsize=(10, 6))\n",
    "\n",
    "sns.scatterplot(x='Annual Income', y='Premium Amount', data=data, alpha=0.6)\n",
    "plt.title('Annual Income vs Premium Amount')\n",
    "\n",
    "sns.regplot(x='Annual Income', y='Premium Amount', data=data, scatter=False, color='red')\n",
    "\n",
    "corr = data['Annual Income'].corr(data['Premium Amount'])\n",
    "plt.annotate(f'Correlation: {corr:.2f}', xy=(0.05, 0.95), xycoords='axes fraction',\n",
    "            fontsize=12, bbox=dict(boxstyle=\"round,pad=0.3\", fc=\"white\", ec=\"black\", alpha=0.8))\n",
    "\n",
    "plt.xlabel('Annual Income ($)')\n",
    "plt.ylabel('Premium Amount ($)')\n",
    "plt.tight_layout()\n",
    "plt.show()"
   ]
  },
  {
   "cell_type": "markdown",
   "metadata": {},
   "source": [
    "### Average Premium by Gender"
   ]
  },
  {
   "cell_type": "code",
   "execution_count": null,
   "metadata": {},
   "outputs": [],
   "source": [
    "plt.figure(figsize=(8, 6))\n",
    "\n",
    "avg_premium = data.groupby('Gender')['Premium Amount'].mean().sort_values(ascending=False).reset_index()\n",
    "\n",
    "sns.barplot(x='Gender', y='Premium Amount', data=avg_premium)\n",
    "plt.title('Average Premium by Gender', pad=15, fontsize=12)\n",
    "plt.xlabel('Gender', labelpad=10, fontsize=10)\n",
    "plt.ylabel('Average Premium Amount ($)', labelpad=10, fontsize=10)\n",
    "\n",
    "for i, v in enumerate(avg_premium['Premium Amount']):\n",
    "    plt.text(i, v + 50, f'${v:.2f}', ha='center', fontsize=10)\n",
    "\n",
    "plt.margins(y=0.15)\n",
    "plt.tight_layout()\n",
    "plt.show()"
   ]
  },
  {
   "cell_type": "markdown",
   "metadata": {},
   "source": [
    "### Impact of Categorical Features on Premium"
   ]
  },
  {
   "cell_type": "code",
   "execution_count": null,
   "metadata": {},
   "outputs": [],
   "source": [
    "numerical_data = data.select_dtypes(include=['number'])\n",
    "categorical_data = data.select_dtypes(include=['object'])\n",
    "\n",
    "categorical_means = {}\n",
    "for col in categorical_data.columns:\n",
    "    if col != 'Policy Start Date':\n",
    "        means = data.groupby(col)['Premium Amount'].mean()\n",
    "        categorical_means[col] = means.max() - means.min()\n",
    "\n",
    "categorical_impact = pd.Series(categorical_means).sort_values(ascending=False)\n",
    "\n",
    "top_5_categorical = categorical_impact.head(5)\n",
    "\n",
    "plt.figure(figsize=(8, 6))\n",
    "plt.suptitle('Impact of Categorical Features on Premium', fontsize=14, y=0.95)\n",
    "colors = ['#ff9999', '#66b3ff', '#99ff99', '#ffcc99', '#ff99cc']\n",
    "plt.pie(top_5_categorical.values, labels=top_5_categorical.index, autopct='%.0f%%',\n",
    "        colors=colors, startangle=90)\n",
    "plt.axis('equal')\n",
    "plt.show()"
   ]
  },
  {
   "cell_type": "markdown",
   "metadata": {},
   "source": [
    "### Average Premium Amount by Vehicle Age"
   ]
  },
  {
   "cell_type": "code",
   "execution_count": null,
   "metadata": {},
   "outputs": [],
   "source": [
    "age_premium = data.groupby('Vehicle Age')['Premium Amount'].mean().reset_index()\n",
    "\n",
    "plt.figure(figsize=(12, 8))\n",
    "plt.plot(age_premium['Vehicle Age'], age_premium['Premium Amount'], \n",
    "         marker='o', linewidth=2, markersize=8)\n",
    "\n",
    "plt.title('Average Premium Amount by Vehicle Age', pad=20, fontsize=14)\n",
    "plt.xlabel('Vehicle Age (Years)', labelpad=15, fontsize=12)\n",
    "plt.ylabel('Average Premium Amount ($)', labelpad=15, fontsize=12)\n",
    "\n",
    "for x, y in zip(age_premium['Vehicle Age'], age_premium['Premium Amount']):\n",
    "    plt.text(x, y + 20, f'${y:.0f}', ha='center', va='bottom', fontsize=11)  \n",
    "\n",
    "plt.grid(True, linestyle='--', alpha=0.7)\n",
    "plt.margins(y=0.1)\n",
    "plt.subplots_adjust(left=0.12, right=0.95, top=0.85, bottom=0.12)\n",
    "plt.show()"
   ]
  }
 ],
 "metadata": {
  "kernelspec": {
   "display_name": "env",
   "language": "python",
   "name": "python3"
  },
  "language_info": {
   "codemirror_mode": {
    "name": "ipython",
    "version": 3
   },
   "file_extension": ".py",
   "mimetype": "text/x-python",
   "name": "python",
   "nbconvert_exporter": "python",
   "pygments_lexer": "ipython3",
   "version": "3.13.2"
  }
 },
 "nbformat": 4,
 "nbformat_minor": 2
}
